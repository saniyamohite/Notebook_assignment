{
 "cells": [
  {
   "cell_type": "markdown",
   "id": "cdf1711c-6b9a-4ed2-b3d4-0d9e96156a0a",
   "metadata": {},
   "source": [
    "<h1> My Jupyter Notebook on IBM Watson Studio </h1>"
   ]
  },
  {
   "cell_type": "markdown",
   "id": "131b3cd3-b4d3-4811-ad85-9d934c413366",
   "metadata": {},
   "source": [
    "---\n",
    "\n",
    "__Saniya Mohite__\n",
    "<br>\n",
    "Desired occupation : Data Scientist \n",
    "\n",
    "---"
   ]
  },
  {
   "cell_type": "markdown",
   "id": "339c127f-f44e-481d-8a87-a26a1772aae0",
   "metadata": {},
   "source": [
    "I aspire to pursue a career in Data Science due to the various opportunities for learning and advancement in future. It is one of the most rapidly growing, secure and promising field."
   ]
  },
  {
   "cell_type": "markdown",
   "id": "4adfbb63-3c98-4972-90e1-655eeab80e3f",
   "metadata": {},
   "source": [
    "<h3> Python Program to convert temperature in celsius to fahrenheit </h3>\n"
   ]
  },
  {
   "cell_type": "code",
   "execution_count": 7,
   "id": "df75f963-d12d-4d4c-97d8-8c2ca15a1a58",
   "metadata": {},
   "outputs": [
    {
     "name": "stdout",
     "output_type": "stream",
     "text": [
      "35 degree Celsius is equal to 95.0 degree Fahrenheit.\n"
     ]
    }
   ],
   "source": [
    "# change this value for a different result\n",
    "celsius = 35\n",
    "\n",
    "# calculate fahrenheit\n",
    "fahrenheit = (celsius * 1.8) + 32\n",
    "print(str(celsius )+ \" degree Celsius is equal to \" + str(fahrenheit )+ \" degree Fahrenheit.\")"
   ]
  },
  {
   "cell_type": "markdown",
   "id": "341bc534-1a33-4e76-8394-a19a80467839",
   "metadata": {},
   "source": [
    "---\n",
    "\n",
    "* The Job opportinities in Data Science :\n",
    "1. Data Steward\n",
    "2. Data Scientist\n",
    "3. Business analyst\n",
    "4. Data engineer\n",
    "5. Developer\n",
    "6. Data Analyst\n",
    "\n",
    "\n",
    "* Difference between Data Analytics and Data Science\n",
    "\n",
    "|   Data Analytics   |   Data Science   |\n",
    "|   --------------   |   -------------  |\n",
    "|   Data Quering     |   Data Sourcing  |\n",
    "|   Statistical Modelling   |   Data Cleansing  |\n",
    "|   Data Analysis     |   Result Evaluation  |\n",
    "|   Data Visualization     |   Data Testing and Deployment  |\n",
    "\n",
    "\n",
    "* [IBM Data Science Professional Certificate course link](https://github.com/adam-p/markdown-here/wiki/Markdown-Cheatsheet#lists)\n",
    "\n",
    "---"
   ]
  },
  {
   "cell_type": "code",
   "execution_count": null,
   "id": "95d1bbc2-d3fa-4639-ade5-1b8c55978fda",
   "metadata": {},
   "outputs": [],
   "source": []
  }
 ],
 "metadata": {
  "kernelspec": {
   "display_name": "Python",
   "language": "python",
   "name": "conda-env-python-py"
  },
  "language_info": {
   "codemirror_mode": {
    "name": "ipython",
    "version": 3
   },
   "file_extension": ".py",
   "mimetype": "text/x-python",
   "name": "python",
   "nbconvert_exporter": "python",
   "pygments_lexer": "ipython3",
   "version": "3.7.12"
  }
 },
 "nbformat": 4,
 "nbformat_minor": 5
}
